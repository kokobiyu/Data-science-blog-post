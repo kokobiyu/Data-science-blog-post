{
 "cells": [
  {
   "cell_type": "markdown",
   "id": "0aaee4ee",
   "metadata": {},
   "source": [
    "# Load Library and Data"
   ]
  },
  {
   "cell_type": "code",
   "execution_count": 2,
   "id": "4efc6394",
   "metadata": {
    "scrolled": false
   },
   "outputs": [
    {
     "data": {
      "text/html": [
       "<div>\n",
       "<style scoped>\n",
       "    .dataframe tbody tr th:only-of-type {\n",
       "        vertical-align: middle;\n",
       "    }\n",
       "\n",
       "    .dataframe tbody tr th {\n",
       "        vertical-align: top;\n",
       "    }\n",
       "\n",
       "    .dataframe thead th {\n",
       "        text-align: right;\n",
       "    }\n",
       "</style>\n",
       "<table border=\"1\" class=\"dataframe\">\n",
       "  <thead>\n",
       "    <tr style=\"text-align: right;\">\n",
       "      <th></th>\n",
       "      <th>Unnamed: 0</th>\n",
       "      <th>work_year</th>\n",
       "      <th>experience_level</th>\n",
       "      <th>employment_type</th>\n",
       "      <th>job_title</th>\n",
       "      <th>salary</th>\n",
       "      <th>salary_currency</th>\n",
       "      <th>salary_in_usd</th>\n",
       "      <th>employee_residence</th>\n",
       "      <th>remote_ratio</th>\n",
       "      <th>company_location</th>\n",
       "      <th>company_size</th>\n",
       "    </tr>\n",
       "  </thead>\n",
       "  <tbody>\n",
       "    <tr>\n",
       "      <th>0</th>\n",
       "      <td>0</td>\n",
       "      <td>2020</td>\n",
       "      <td>MI</td>\n",
       "      <td>FT</td>\n",
       "      <td>Data Scientist</td>\n",
       "      <td>70000</td>\n",
       "      <td>EUR</td>\n",
       "      <td>79833</td>\n",
       "      <td>DE</td>\n",
       "      <td>0</td>\n",
       "      <td>DE</td>\n",
       "      <td>L</td>\n",
       "    </tr>\n",
       "    <tr>\n",
       "      <th>1</th>\n",
       "      <td>1</td>\n",
       "      <td>2020</td>\n",
       "      <td>SE</td>\n",
       "      <td>FT</td>\n",
       "      <td>Machine Learning Scientist</td>\n",
       "      <td>260000</td>\n",
       "      <td>USD</td>\n",
       "      <td>260000</td>\n",
       "      <td>JP</td>\n",
       "      <td>0</td>\n",
       "      <td>JP</td>\n",
       "      <td>S</td>\n",
       "    </tr>\n",
       "    <tr>\n",
       "      <th>2</th>\n",
       "      <td>2</td>\n",
       "      <td>2020</td>\n",
       "      <td>SE</td>\n",
       "      <td>FT</td>\n",
       "      <td>Big Data Engineer</td>\n",
       "      <td>85000</td>\n",
       "      <td>GBP</td>\n",
       "      <td>109024</td>\n",
       "      <td>GB</td>\n",
       "      <td>50</td>\n",
       "      <td>GB</td>\n",
       "      <td>M</td>\n",
       "    </tr>\n",
       "    <tr>\n",
       "      <th>3</th>\n",
       "      <td>3</td>\n",
       "      <td>2020</td>\n",
       "      <td>MI</td>\n",
       "      <td>FT</td>\n",
       "      <td>Product Data Analyst</td>\n",
       "      <td>20000</td>\n",
       "      <td>USD</td>\n",
       "      <td>20000</td>\n",
       "      <td>HN</td>\n",
       "      <td>0</td>\n",
       "      <td>HN</td>\n",
       "      <td>S</td>\n",
       "    </tr>\n",
       "    <tr>\n",
       "      <th>4</th>\n",
       "      <td>4</td>\n",
       "      <td>2020</td>\n",
       "      <td>SE</td>\n",
       "      <td>FT</td>\n",
       "      <td>Machine Learning Engineer</td>\n",
       "      <td>150000</td>\n",
       "      <td>USD</td>\n",
       "      <td>150000</td>\n",
       "      <td>US</td>\n",
       "      <td>50</td>\n",
       "      <td>US</td>\n",
       "      <td>L</td>\n",
       "    </tr>\n",
       "  </tbody>\n",
       "</table>\n",
       "</div>"
      ],
      "text/plain": [
       "   Unnamed: 0  work_year experience_level employment_type  \\\n",
       "0           0       2020               MI              FT   \n",
       "1           1       2020               SE              FT   \n",
       "2           2       2020               SE              FT   \n",
       "3           3       2020               MI              FT   \n",
       "4           4       2020               SE              FT   \n",
       "\n",
       "                    job_title  salary salary_currency  salary_in_usd  \\\n",
       "0              Data Scientist   70000             EUR          79833   \n",
       "1  Machine Learning Scientist  260000             USD         260000   \n",
       "2           Big Data Engineer   85000             GBP         109024   \n",
       "3        Product Data Analyst   20000             USD          20000   \n",
       "4   Machine Learning Engineer  150000             USD         150000   \n",
       "\n",
       "  employee_residence  remote_ratio company_location company_size  \n",
       "0                 DE             0               DE            L  \n",
       "1                 JP             0               JP            S  \n",
       "2                 GB            50               GB            M  \n",
       "3                 HN             0               HN            S  \n",
       "4                 US            50               US            L  "
      ]
     },
     "execution_count": 2,
     "metadata": {},
     "output_type": "execute_result"
    }
   ],
   "source": [
    "import numpy as np\n",
    "import pandas as pd\n",
    "import matplotlib.pyplot as plt\n",
    "from IPython import display\n",
    "import seaborn as sb\n",
    "\n",
    "%matplotlib inline\n",
    "\n",
    "df = pd.read_csv(\"ds_salaries.csv\")\n",
    "df.head()"
   ]
  },
  {
   "cell_type": "markdown",
   "id": "94870d72",
   "metadata": {},
   "source": [
    "# Business Understanding"
   ]
  },
  {
   "cell_type": "markdown",
   "id": "78e79d71",
   "metadata": {},
   "source": [
    "Data science has been a hot topic of discussion lately. Many people want a high-paying job but still have a good work-life balance. But there is news that data scientist is no longer the highest paying job.\n",
    "So, what is the current salary of a data scientist? is it still worth it to be a dream job? how does it compare to other jobs?"
   ]
  },
  {
   "cell_type": "markdown",
   "id": "101d3939",
   "metadata": {},
   "source": [
    "What is the most frequent job title?"
   ]
  },
  {
   "cell_type": "markdown",
   "id": "f02ac961",
   "metadata": {},
   "source": [
    "Top 3 most frequent job salaries"
   ]
  },
  {
   "cell_type": "markdown",
   "id": "aa65e56e",
   "metadata": {},
   "source": [
    "Average salary by work year"
   ]
  },
  {
   "cell_type": "markdown",
   "id": "2d405b89",
   "metadata": {},
   "source": [
    "# Data Understanding"
   ]
  },
  {
   "cell_type": "code",
   "execution_count": 3,
   "id": "8958b52b",
   "metadata": {},
   "outputs": [
    {
     "data": {
      "text/plain": [
       "(607, 12)"
      ]
     },
     "execution_count": 3,
     "metadata": {},
     "output_type": "execute_result"
    }
   ],
   "source": [
    "df.shape"
   ]
  },
  {
   "cell_type": "code",
   "execution_count": 4,
   "id": "0f8ed804",
   "metadata": {
    "scrolled": true
   },
   "outputs": [
    {
     "name": "stdout",
     "output_type": "stream",
     "text": [
      "<class 'pandas.core.frame.DataFrame'>\n",
      "RangeIndex: 607 entries, 0 to 606\n",
      "Data columns (total 12 columns):\n",
      " #   Column              Non-Null Count  Dtype \n",
      "---  ------              --------------  ----- \n",
      " 0   Unnamed: 0          607 non-null    int64 \n",
      " 1   work_year           607 non-null    int64 \n",
      " 2   experience_level    607 non-null    object\n",
      " 3   employment_type     607 non-null    object\n",
      " 4   job_title           607 non-null    object\n",
      " 5   salary              607 non-null    int64 \n",
      " 6   salary_currency     607 non-null    object\n",
      " 7   salary_in_usd       607 non-null    int64 \n",
      " 8   employee_residence  607 non-null    object\n",
      " 9   remote_ratio        607 non-null    int64 \n",
      " 10  company_location    607 non-null    object\n",
      " 11  company_size        607 non-null    object\n",
      "dtypes: int64(5), object(7)\n",
      "memory usage: 57.0+ KB\n"
     ]
    }
   ],
   "source": [
    "df.info()"
   ]
  },
  {
   "cell_type": "code",
   "execution_count": 8,
   "id": "90560562",
   "metadata": {},
   "outputs": [
    {
     "data": {
      "text/plain": [
       "Unnamed: 0            0\n",
       "work_year             0\n",
       "experience_level      0\n",
       "employment_type       0\n",
       "job_title             0\n",
       "salary                0\n",
       "salary_currency       0\n",
       "salary_in_usd         0\n",
       "employee_residence    0\n",
       "remote_ratio          0\n",
       "company_location      0\n",
       "company_size          0\n",
       "dtype: int64"
      ]
     },
     "execution_count": 8,
     "metadata": {},
     "output_type": "execute_result"
    }
   ],
   "source": [
    "df.isnull().sum()"
   ]
  },
  {
   "cell_type": "markdown",
   "id": "f9670453",
   "metadata": {},
   "source": [
    "there is no missing value"
   ]
  },
  {
   "cell_type": "markdown",
   "id": "8601e02d",
   "metadata": {},
   "source": [
    "# Prepare Data"
   ]
  },
  {
   "cell_type": "code",
   "execution_count": 11,
   "id": "feb878f2",
   "metadata": {},
   "outputs": [],
   "source": [
    "us = df[df['company_location']== 'US']\n",
    "top10 = us['job_title'].value_counts()[:10]"
   ]
  },
  {
   "cell_type": "markdown",
   "id": "3b06ac76",
   "metadata": {},
   "source": [
    "# What is the most frequent job title?"
   ]
  },
  {
   "cell_type": "code",
   "execution_count": 12,
   "id": "0be109f7",
   "metadata": {
    "scrolled": true
   },
   "outputs": [
    {
     "data": {
      "image/png": "[encoded data removed]",
      "text/plain": [
       "<Figure size 648x360 with 1 Axes>"
      ]
     },
     "metadata": {
      "needs_background": "light"
     },
     "output_type": "display_data"
    }
   ],
   "source": [
    "plt.figure(figsize = (9,5))\n",
    "#plot for first chart\n",
    "sb.barplot(x = top10.index.values, y = top10)\n",
    "#adding text on the bar\n",
    "for i in range (top10.shape[0]): \n",
    "    count = top10[i]\n",
    "    plt.text(i, count-0.5, count, ha = 'center', va='top', color = 'black', fontsize = 14)\n",
    "\n",
    "#customizing chart\n",
    "plt.title('Top 10 Job Titles in US', fontsize = 15)\n",
    "plt.xlabel(' ')\n",
    "plt.ylabel('Frequency', fontsize = 15)\n",
    "plt.xticks(rotation=-30, ha ='left', fontsize = 14);"
   ]
  },
  {
   "cell_type": "markdown",
   "id": "eeaf10a5",
   "metadata": {},
   "source": [
    "Chart above shows the top 10 job title from 2020–2022 in United State. Data scientist, data engineer and data analyst ranked top 3 frequent job titles, but it can be easily seen that others are also related to those top 3 job titles."
   ]
  },
  {
   "cell_type": "markdown",
   "id": "c4bea3d6",
   "metadata": {},
   "source": [
    "#  Top 3 most frequent job salaries"
   ]
  },
  {
   "cell_type": "code",
   "execution_count": 13,
   "id": "50f7c5aa",
   "metadata": {},
   "outputs": [],
   "source": [
    "#filtering data\n",
    "salary = df[['experience_level', 'job_title','salary_in_usd']]\n",
    "da = salary[salary['job_title'].str.contains(\"Data Analyst\")]\n",
    "de = salary[salary['job_title'].str.contains(\"Data Engineer\")].drop(41) #dropping suspicious row\n",
    "ds = salary[salary['job_title'].str.contains(\"Data Scientist\")]"
   ]
  },
  {
   "cell_type": "markdown",
   "id": "064156fb",
   "metadata": {},
   "source": [
    "making new dataframe"
   ]
  },
  {
   "cell_type": "code",
   "execution_count": 14,
   "id": "fbe258b3",
   "metadata": {},
   "outputs": [
    {
     "name": "stdout",
     "output_type": "stream",
     "text": [
      "          title      level  salary_in_usd\n",
      "0  Data Analyst      Entry   66411.916667\n",
      "1  Data Analyst  Executive  135000.000000\n",
      "2  Data Analyst     Junior  116558.672414\n",
      "3  Data Analyst     Senior  120494.525926\n",
      "           title      level  salary_in_usd\n",
      "0  Data Engineer      Entry   44818.416667\n",
      "1  Data Engineer  Executive  321229.000000\n",
      "2  Data Engineer     Junior   64823.932075\n",
      "3  Data Engineer     Senior  154692.763039\n",
      "            title      level  salary_in_usd\n",
      "0  Data Scientist      Entry   82683.954545\n",
      "1  Data Scientist  Executive  416000.000000\n",
      "2  Data Scientist     Junior  113414.533333\n",
      "3  Data Scientist     Senior  167939.083279\n"
     ]
    }
   ],
   "source": [
    "en = ds[ds['experience_level']== 'EN'].groupby(['job_title']).mean().reset_index()\n",
    "mi = ds[ds['experience_level']== 'MI'].groupby(['job_title']).mean().reset_index()\n",
    "se = ds[ds['experience_level']== 'SE'].groupby(['job_title']).mean().reset_index()\n",
    "ex = ds[ds['experience_level']== 'EX'].groupby(['job_title']).mean().reset_index()\n",
    "\n",
    "en.insert(1, column = 'level', value = 'Entry')\n",
    "mi.insert(1, column = 'level', value = 'Junior')\n",
    "se.insert(1, column = 'level', value = 'Senior')\n",
    "ex.insert(1, column = 'level', value = 'Executive')\n",
    "    \n",
    "DataFrame = [en, mi, se, ex] \n",
    "dsm = pd.concat(DataFrame).drop_duplicates().reset_index(drop=True)\n",
    "dsm = dsm.groupby(['level']).mean().reset_index()\n",
    "dsm.insert(0,column=\"title\", value=\"Data Scientist\")\n",
    "\n",
    "en = de[de['experience_level']== 'EN'].groupby(['job_title']).mean().reset_index()\n",
    "mi = de[de['experience_level']== 'MI'].groupby(['job_title']).mean().reset_index()\n",
    "se = de[de['experience_level']== 'SE'].groupby(['job_title']).mean().reset_index()\n",
    "ex = de[de['experience_level']== 'EX'].groupby(['job_title']).mean().reset_index()\n",
    "\n",
    "\n",
    "en.insert(1, column = 'level', value = 'Entry')\n",
    "mi.insert(1, column = 'level', value = 'Junior')\n",
    "se.insert(1, column = 'level', value = 'Senior')\n",
    "ex.insert(1, column = 'level', value = 'Executive')\n",
    "\n",
    "DataFrame = [en, mi, se, ex] \n",
    "dem = pd.concat(DataFrame).drop_duplicates().reset_index(drop=True)\n",
    "dem = dem.groupby(['level']).mean().reset_index()\n",
    "dem.insert(0,column=\"title\", value=\"Data Engineer\")\n",
    "\n",
    "en = da[da['experience_level']== 'EN'].groupby(['job_title']).mean().reset_index()\n",
    "mi = da[da['experience_level']== 'MI'].groupby(['job_title']).mean().reset_index()\n",
    "se = da[da['experience_level']== 'SE'].groupby(['job_title']).mean().reset_index()\n",
    "ex = da[da['experience_level']== 'EX'].groupby(['job_title']).mean().reset_index()\n",
    "\n",
    "en.insert(1, column = 'level', value = 'Entry')\n",
    "mi.insert(1, column = 'level', value = 'Junior')\n",
    "se.insert(1, column = 'level', value = 'Senior')\n",
    "ex.insert(1, column = 'level', value = 'Executive')\n",
    "\n",
    "DataFrame = [en, mi, se, ex] \n",
    "dam = pd.concat(DataFrame).drop_duplicates().reset_index(drop=True)\n",
    "dam = dam.groupby(['level']).mean().reset_index()\n",
    "dam.insert(0,column=\"title\", value=\"Data Analyst\")\n",
    "\n",
    "print(dam)\n",
    "print(dem)\n",
    "print(dsm)"
   ]
  },
  {
   "cell_type": "code",
   "execution_count": 15,
   "id": "1f83df71",
   "metadata": {},
   "outputs": [
    {
     "data": {
      "text/html": [
       "<div>\n",
       "<style scoped>\n",
       "    .dataframe tbody tr th:only-of-type {\n",
       "        vertical-align: middle;\n",
       "    }\n",
       "\n",
       "    .dataframe tbody tr th {\n",
       "        vertical-align: top;\n",
       "    }\n",
       "\n",
       "    .dataframe thead th {\n",
       "        text-align: right;\n",
       "    }\n",
       "</style>\n",
       "<table border=\"1\" class=\"dataframe\">\n",
       "  <thead>\n",
       "    <tr style=\"text-align: right;\">\n",
       "      <th></th>\n",
       "      <th>title</th>\n",
       "      <th>level</th>\n",
       "      <th>salary_in_usd</th>\n",
       "    </tr>\n",
       "  </thead>\n",
       "  <tbody>\n",
       "    <tr>\n",
       "      <th>0</th>\n",
       "      <td>Data Analyst</td>\n",
       "      <td>Entry</td>\n",
       "      <td>66411.916667</td>\n",
       "    </tr>\n",
       "    <tr>\n",
       "      <th>1</th>\n",
       "      <td>Data Analyst</td>\n",
       "      <td>Executive</td>\n",
       "      <td>135000.000000</td>\n",
       "    </tr>\n",
       "    <tr>\n",
       "      <th>2</th>\n",
       "      <td>Data Analyst</td>\n",
       "      <td>Junior</td>\n",
       "      <td>116558.672414</td>\n",
       "    </tr>\n",
       "    <tr>\n",
       "      <th>3</th>\n",
       "      <td>Data Analyst</td>\n",
       "      <td>Senior</td>\n",
       "      <td>120494.525926</td>\n",
       "    </tr>\n",
       "    <tr>\n",
       "      <th>0</th>\n",
       "      <td>Data Engineer</td>\n",
       "      <td>Entry</td>\n",
       "      <td>44818.416667</td>\n",
       "    </tr>\n",
       "    <tr>\n",
       "      <th>1</th>\n",
       "      <td>Data Engineer</td>\n",
       "      <td>Executive</td>\n",
       "      <td>321229.000000</td>\n",
       "    </tr>\n",
       "    <tr>\n",
       "      <th>2</th>\n",
       "      <td>Data Engineer</td>\n",
       "      <td>Junior</td>\n",
       "      <td>64823.932075</td>\n",
       "    </tr>\n",
       "    <tr>\n",
       "      <th>3</th>\n",
       "      <td>Data Engineer</td>\n",
       "      <td>Senior</td>\n",
       "      <td>154692.763039</td>\n",
       "    </tr>\n",
       "    <tr>\n",
       "      <th>0</th>\n",
       "      <td>Data Scientist</td>\n",
       "      <td>Entry</td>\n",
       "      <td>82683.954545</td>\n",
       "    </tr>\n",
       "    <tr>\n",
       "      <th>1</th>\n",
       "      <td>Data Scientist</td>\n",
       "      <td>Executive</td>\n",
       "      <td>416000.000000</td>\n",
       "    </tr>\n",
       "    <tr>\n",
       "      <th>2</th>\n",
       "      <td>Data Scientist</td>\n",
       "      <td>Junior</td>\n",
       "      <td>113414.533333</td>\n",
       "    </tr>\n",
       "    <tr>\n",
       "      <th>3</th>\n",
       "      <td>Data Scientist</td>\n",
       "      <td>Senior</td>\n",
       "      <td>167939.083279</td>\n",
       "    </tr>\n",
       "  </tbody>\n",
       "</table>\n",
       "</div>"
      ],
      "text/plain": [
       "            title      level  salary_in_usd\n",
       "0    Data Analyst      Entry   66411.916667\n",
       "1    Data Analyst  Executive  135000.000000\n",
       "2    Data Analyst     Junior  116558.672414\n",
       "3    Data Analyst     Senior  120494.525926\n",
       "0   Data Engineer      Entry   44818.416667\n",
       "1   Data Engineer  Executive  321229.000000\n",
       "2   Data Engineer     Junior   64823.932075\n",
       "3   Data Engineer     Senior  154692.763039\n",
       "0  Data Scientist      Entry   82683.954545\n",
       "1  Data Scientist  Executive  416000.000000\n",
       "2  Data Scientist     Junior  113414.533333\n",
       "3  Data Scientist     Senior  167939.083279"
      ]
     },
     "execution_count": 15,
     "metadata": {},
     "output_type": "execute_result"
    }
   ],
   "source": [
    "salary2 = [dam,dem,dsm]\n",
    "new_df = pd.concat(salary2)\n",
    "new_df"
   ]
  },
  {
   "cell_type": "code",
   "execution_count": 16,
   "id": "0b4271cb",
   "metadata": {
    "scrolled": true
   },
   "outputs": [
    {
     "data": {
      "image/png": "[encoded data removed]",
      "text/plain": [
       "<Figure size 720x432 with 1 Axes>"
      ]
     },
     "metadata": {
      "needs_background": "light"
     },
     "output_type": "display_data"
    }
   ],
   "source": [
    "plt.figure(figsize = (10,6))\n",
    "\n",
    "#plot the second bar\n",
    "sb.barplot(data = new_df, x = 'title', y = 'salary_in_usd', hue = 'level', hue_order = ['Entry', 'Junior', 'Senior', 'Executive'])\n",
    "\n",
    "#customizing chart\n",
    "plt.title('Top 3 Job by Experience L', fontsize = 15)\n",
    "plt.xlabel(\" \")\n",
    "plt.ylabel('Salary(AVG)', fontsize = 14)\n",
    "plt.ylabel(\"Salary (AVG)\", fontsize = 14)\n",
    "plt.grid(axis = 'y')\n",
    "plt.xticks(fontsize = 14)\n",
    "plt.show();\n"
   ]
  },
  {
   "cell_type": "markdown",
   "id": "2c6df5a9",
   "metadata": {},
   "source": [
    "Data above including every job title that contains data analyst, data scientist, and data engineer. We can see that there is no significant difference in data analyst salaries for each level.\n",
    "\n",
    "On average, data scientist salaries are higher than data analysts and data engineers at every level, with executive data scientists over 400k followed by executive data analysts over 250k."
   ]
  },
  {
   "cell_type": "markdown",
   "id": "b5130647",
   "metadata": {},
   "source": [
    "# Average salary by work year"
   ]
  },
  {
   "cell_type": "code",
   "execution_count": 11,
   "id": "a620e9a6",
   "metadata": {},
   "outputs": [
    {
     "data": {
      "text/plain": [
       "[95813.0, 99853.79262672811, 124522.00628930818]"
      ]
     },
     "execution_count": 11,
     "metadata": {},
     "output_type": "execute_result"
    }
   ],
   "source": [
    "#data wrangling third chart\n",
    "w2020 = df.loc[(df['work_year'] == 2020)]\n",
    "w2021 = df.loc[(df['work_year'] == 2021)]\n",
    "w2022 = df.loc[(df['work_year'] == 2022)]\n",
    "hist_data = [w2020['salary_in_usd'],w2021['salary_in_usd'],w2022['salary_in_usd']]\n",
    "group_labels = ['2020 salary','2021 salary','2022 salary']\n",
    "colors = ['white','red','blue']\n",
    "\n",
    "#making datframe for third chart\n",
    "year_salary = pd.DataFrame(columns=['2020','2021','2022'])\n",
    "year_salary['2020'] = w2020.groupby('work_year').mean('salary_in_usd')['salary_in_usd'].values\n",
    "year_salary['2021'] = w2021.groupby('work_year').mean('salary_in_usd')['salary_in_usd'].values\n",
    "year_salary['2022'] = w2022.groupby('work_year').mean('salary_in_usd')['salary_in_usd'].values\n",
    "year_salary.values.tolist()[0]"
   ]
  },
  {
   "cell_type": "code",
   "execution_count": 12,
   "id": "8eb41c50",
   "metadata": {},
   "outputs": [
    {
     "data": {
      "text/plain": [
       "''"
      ]
     },
     "execution_count": 12,
     "metadata": {},
     "output_type": "execute_result"
    },
    {
     "data": {
      "image/png": "[encoded data removed]",
      "text/plain": [
       "<Figure size 576x432 with 1 Axes>"
      ]
     },
     "metadata": {
      "needs_background": "light"
     },
     "output_type": "display_data"
    }
   ],
   "source": [
    "x = year_salary.columns\n",
    "y = year_salary.values.tolist()[0]\n",
    "\n",
    "plt.figure(figsize = (8,6))\n",
    "\n",
    "#plot third chart\n",
    "fig2 = sb.barplot(x = x, y = y, palette = ['yellow', 'orangered', 'dodgerblue'])\n",
    "#adding text to the bar\n",
    "fig2.bar_label(fig2.containers[0], label_type='edge', labels = np.round([num/1000 for num in y], 3), padding = -20, fontsize = 15)\n",
    "\n",
    "#customizing chart\n",
    "fig2.margins(y=0.2)\n",
    "\n",
    "plt.xticks(fontsize = 18)\n",
    "plt.title('Average Salary by Work Year', fontsize = 20)\n",
    ";"
   ]
  },
  {
   "cell_type": "markdown",
   "id": "f8edbbd0",
   "metadata": {},
   "source": [
    "We can see the average salary increase every year with the highest in 2022 of 124.5k, with levels in 2021 and 2020 are about the same."
   ]
  },
  {
   "cell_type": "markdown",
   "id": "3e0acb80",
   "metadata": {},
   "source": [
    "# Evalutaion"
   ]
  },
  {
   "cell_type": "markdown",
   "id": "4eeda477",
   "metadata": {},
   "source": [
    "Data-related jobs are in high demand, and it’s never too late to learn about the industry if you want a high-paying job and work-life balance.\n",
    "\n",
    "We hope there will be tools to help people become data scientists, but keep in mind that there is no easy way to become successful."
   ]
  },
  {
   "cell_type": "code",
   "execution_count": null,
   "id": "115fbf01",
   "metadata": {},
   "outputs": [],
   "source": []
  }
 ],
 "metadata": {
  "kernelspec": {
   "display_name": "Python 3 (ipykernel)",
   "language": "python",
   "name": "python3"
  },
  "language_info": {
   "codemirror_mode": {
    "name": "ipython",
    "version": 3
   },
   "file_extension": ".py",
   "mimetype": "text/x-python",
   "name": "python",
   "nbconvert_exporter": "python",
   "pygments_lexer": "ipython3",
   "version": "3.9.7"
  }
 },
 "nbformat": 4,
 "nbformat_minor": 5
}
